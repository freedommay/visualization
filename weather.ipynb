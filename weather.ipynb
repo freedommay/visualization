{
 "cells": [
  {
   "cell_type": "code",
   "execution_count": 1,
   "metadata": {},
   "outputs": [],
   "source": [
    "import numpy as np\n",
    "import pandas as pd"
   ]
  },
  {
   "cell_type": "code",
   "execution_count": 2,
   "metadata": {},
   "outputs": [],
   "source": [
    "weather = pd.read_csv('./data/weather.csv')"
   ]
  },
  {
   "cell_type": "code",
   "execution_count": 3,
   "metadata": {},
   "outputs": [
    {
     "data": {
      "text/html": [
       "<div>\n",
       "<style scoped>\n",
       "    .dataframe tbody tr th:only-of-type {\n",
       "        vertical-align: middle;\n",
       "    }\n",
       "\n",
       "    .dataframe tbody tr th {\n",
       "        vertical-align: top;\n",
       "    }\n",
       "\n",
       "    .dataframe thead th {\n",
       "        text-align: right;\n",
       "    }\n",
       "</style>\n",
       "<table border=\"1\" class=\"dataframe\">\n",
       "  <thead>\n",
       "    <tr style=\"text-align: right;\">\n",
       "      <th></th>\n",
       "      <th>date</th>\n",
       "      <th>weather</th>\n",
       "      <th>max</th>\n",
       "      <th>min</th>\n",
       "      <th>power</th>\n",
       "      <th>direction</th>\n",
       "    </tr>\n",
       "  </thead>\n",
       "  <tbody>\n",
       "    <tr>\n",
       "      <th>0</th>\n",
       "      <td>2011-01-01</td>\n",
       "      <td>雨夹雪</td>\n",
       "      <td>5</td>\n",
       "      <td>-1</td>\n",
       "      <td>微风</td>\n",
       "      <td>无持续风向</td>\n",
       "    </tr>\n",
       "    <tr>\n",
       "      <th>1</th>\n",
       "      <td>2011-01-02</td>\n",
       "      <td>多云</td>\n",
       "      <td>7</td>\n",
       "      <td>0</td>\n",
       "      <td>微风</td>\n",
       "      <td>无持续风向~北风</td>\n",
       "    </tr>\n",
       "    <tr>\n",
       "      <th>2</th>\n",
       "      <td>2011-01-03</td>\n",
       "      <td>雨夹雪</td>\n",
       "      <td>6</td>\n",
       "      <td>0</td>\n",
       "      <td>微风</td>\n",
       "      <td>北风</td>\n",
       "    </tr>\n",
       "    <tr>\n",
       "      <th>3</th>\n",
       "      <td>2011-01-04</td>\n",
       "      <td>雨夹雪~阴</td>\n",
       "      <td>4</td>\n",
       "      <td>-2</td>\n",
       "      <td>微风</td>\n",
       "      <td>北风</td>\n",
       "    </tr>\n",
       "    <tr>\n",
       "      <th>4</th>\n",
       "      <td>2011-01-05</td>\n",
       "      <td>多云</td>\n",
       "      <td>5</td>\n",
       "      <td>-1</td>\n",
       "      <td>微风</td>\n",
       "      <td>北风</td>\n",
       "    </tr>\n",
       "  </tbody>\n",
       "</table>\n",
       "</div>"
      ],
      "text/plain": [
       "         date weather  max  min power direction\n",
       "0  2011-01-01     雨夹雪    5   -1    微风     无持续风向\n",
       "1  2011-01-02      多云    7    0    微风  无持续风向~北风\n",
       "2  2011-01-03     雨夹雪    6    0    微风        北风\n",
       "3  2011-01-04   雨夹雪~阴    4   -2    微风        北风\n",
       "4  2011-01-05      多云    5   -1    微风        北风"
      ]
     },
     "execution_count": 3,
     "metadata": {},
     "output_type": "execute_result"
    }
   ],
   "source": [
    "weather.head()"
   ]
  },
  {
   "cell_type": "code",
   "execution_count": 4,
   "metadata": {},
   "outputs": [],
   "source": [
    "date = weather.date\n",
    "max_temp = weather.max\n",
    "min_temp = weather.min"
   ]
  },
  {
   "cell_type": "code",
   "execution_count": 5,
   "metadata": {},
   "outputs": [
    {
     "data": {
      "text/html": [
       "<div>\n",
       "<style scoped>\n",
       "    .dataframe tbody tr th:only-of-type {\n",
       "        vertical-align: middle;\n",
       "    }\n",
       "\n",
       "    .dataframe tbody tr th {\n",
       "        vertical-align: top;\n",
       "    }\n",
       "\n",
       "    .dataframe thead th {\n",
       "        text-align: right;\n",
       "    }\n",
       "</style>\n",
       "<table border=\"1\" class=\"dataframe\">\n",
       "  <thead>\n",
       "    <tr style=\"text-align: right;\">\n",
       "      <th></th>\n",
       "      <th>date</th>\n",
       "      <th>weather</th>\n",
       "      <th>max</th>\n",
       "      <th>min</th>\n",
       "      <th>power</th>\n",
       "      <th>direction</th>\n",
       "    </tr>\n",
       "  </thead>\n",
       "  <tbody>\n",
       "    <tr>\n",
       "      <th>2352</th>\n",
       "      <td>2017-07-25</td>\n",
       "      <td>晴</td>\n",
       "      <td>41</td>\n",
       "      <td>29</td>\n",
       "      <td>2级</td>\n",
       "      <td>东风</td>\n",
       "    </tr>\n",
       "    <tr>\n",
       "      <th>939</th>\n",
       "      <td>2013-08-09</td>\n",
       "      <td>晴</td>\n",
       "      <td>41</td>\n",
       "      <td>31</td>\n",
       "      <td>小于3级</td>\n",
       "      <td>东南风</td>\n",
       "    </tr>\n",
       "    <tr>\n",
       "      <th>2351</th>\n",
       "      <td>2017-07-24</td>\n",
       "      <td>晴</td>\n",
       "      <td>41</td>\n",
       "      <td>29</td>\n",
       "      <td>2级</td>\n",
       "      <td>东风</td>\n",
       "    </tr>\n",
       "  </tbody>\n",
       "</table>\n",
       "</div>"
      ],
      "text/plain": [
       "            date weather  max  min power direction\n",
       "2352  2017-07-25       晴   41   29    2级        东风\n",
       "939   2013-08-09       晴   41   31  小于3级       东南风\n",
       "2351  2017-07-24       晴   41   29    2级        东风"
      ]
     },
     "execution_count": 5,
     "metadata": {},
     "output_type": "execute_result"
    }
   ],
   "source": [
    "max_max = weather.sort_values(by='max', ascending=False).head(3)\n",
    "max_max"
   ]
  },
  {
   "cell_type": "code",
   "execution_count": 6,
   "metadata": {},
   "outputs": [
    {
     "data": {
      "text/html": [
       "<div>\n",
       "<style scoped>\n",
       "    .dataframe tbody tr th:only-of-type {\n",
       "        vertical-align: middle;\n",
       "    }\n",
       "\n",
       "    .dataframe tbody tr th {\n",
       "        vertical-align: top;\n",
       "    }\n",
       "\n",
       "    .dataframe thead th {\n",
       "        text-align: right;\n",
       "    }\n",
       "</style>\n",
       "<table border=\"1\" class=\"dataframe\">\n",
       "  <thead>\n",
       "    <tr style=\"text-align: right;\">\n",
       "      <th></th>\n",
       "      <th>date</th>\n",
       "      <th>weather</th>\n",
       "      <th>max</th>\n",
       "      <th>min</th>\n",
       "      <th>power</th>\n",
       "      <th>direction</th>\n",
       "    </tr>\n",
       "  </thead>\n",
       "  <tbody>\n",
       "    <tr>\n",
       "      <th>1806</th>\n",
       "      <td>2016-01-24</td>\n",
       "      <td>晴</td>\n",
       "      <td>-3</td>\n",
       "      <td>-9</td>\n",
       "      <td>小于3级</td>\n",
       "      <td>西南风</td>\n",
       "    </tr>\n",
       "    <tr>\n",
       "      <th>1805</th>\n",
       "      <td>2016-01-23</td>\n",
       "      <td>小雪~多云</td>\n",
       "      <td>0</td>\n",
       "      <td>-8</td>\n",
       "      <td>小于3级</td>\n",
       "      <td>西北风</td>\n",
       "    </tr>\n",
       "    <tr>\n",
       "      <th>1807</th>\n",
       "      <td>2016-01-25</td>\n",
       "      <td>晴</td>\n",
       "      <td>2</td>\n",
       "      <td>-8</td>\n",
       "      <td>小于3级</td>\n",
       "      <td>西南风</td>\n",
       "    </tr>\n",
       "  </tbody>\n",
       "</table>\n",
       "</div>"
      ],
      "text/plain": [
       "            date weather  max  min power direction\n",
       "1806  2016-01-24       晴   -3   -9  小于3级       西南风\n",
       "1805  2016-01-23   小雪~多云    0   -8  小于3级       西北风\n",
       "1807  2016-01-25       晴    2   -8  小于3级       西南风"
      ]
     },
     "execution_count": 6,
     "metadata": {},
     "output_type": "execute_result"
    }
   ],
   "source": [
    "min_min = weather.sort_values(by='min').head(3)\n",
    "min_min"
   ]
  },
  {
   "cell_type": "code",
   "execution_count": 7,
   "metadata": {},
   "outputs": [
    {
     "data": {
      "text/plain": [
       "17"
      ]
     },
     "execution_count": 7,
     "metadata": {},
     "output_type": "execute_result"
    }
   ],
   "source": [
    "weather[weather['max'] >= 40].date.count()"
   ]
  },
  {
   "cell_type": "code",
   "execution_count": 8,
   "metadata": {},
   "outputs": [],
   "source": [
    "weather_data = weather.groupby('weather').weather.count().sort_values(ascending=False)\n",
    "weather_data.loc['其他'] = weather_data[weather_data.values <= 15].count()\n",
    "weather_data = weather_data[weather_data.values > 15]\n"
   ]
  },
  {
   "cell_type": "code",
   "execution_count": 9,
   "metadata": {},
   "outputs": [
    {
     "data": {
      "text/plain": [
       "weather\n",
       "多云        612\n",
       "晴         325\n",
       "阵雨        202\n",
       "小雨        156\n",
       "阴         131\n",
       "晴转多云      123\n",
       "阴转多云       95\n",
       "多云转晴       79\n",
       "中雨         71\n",
       "晴~多云       71\n",
       "雷阵雨        64\n",
       "阴~多云       43\n",
       "多云~阴       40\n",
       "多云转阴       38\n",
       "小雨~阴       34\n",
       "多云转雷阵雨     31\n",
       "阵雨转中雨      28\n",
       "多云转阵雨      27\n",
       "多云~阵雨      27\n",
       "多云~晴       26\n",
       "雷阵雨~多云     25\n",
       "小雨转阴       23\n",
       "阵雨~阴       18\n",
       "阴~阵雨       18\n",
       "阴转小雨       17\n",
       "小雨转多云      17\n",
       "其他        139\n",
       "Name: weather, dtype: int64"
      ]
     },
     "execution_count": 9,
     "metadata": {},
     "output_type": "execute_result"
    }
   ],
   "source": [
    "weather_data[weather_data.values >= 15]"
   ]
  },
  {
   "cell_type": "code",
   "execution_count": 10,
   "metadata": {},
   "outputs": [],
   "source": [
    "weather_data_all = weather.groupby('weather').weather.count().sort_values(ascending=False)"
   ]
  },
  {
   "cell_type": "code",
   "execution_count": 11,
   "metadata": {},
   "outputs": [
    {
     "name": "stderr",
     "output_type": "stream",
     "text": [
      "c:\\users\\wenjie\\appdata\\local\\programs\\python\\python36\\lib\\site-packages\\ipykernel_launcher.py:4: SettingWithCopyWarning: \n",
      "A value is trying to be set on a copy of a slice from a DataFrame\n",
      "\n",
      "See the caveats in the documentation: http://pandas.pydata.org/pandas-docs/stable/indexing.html#indexing-view-versus-copy\n",
      "  after removing the cwd from sys.path.\n"
     ]
    },
    {
     "data": {
      "text/html": [
       "<div>\n",
       "<style scoped>\n",
       "    .dataframe tbody tr th:only-of-type {\n",
       "        vertical-align: middle;\n",
       "    }\n",
       "\n",
       "    .dataframe tbody tr th {\n",
       "        vertical-align: top;\n",
       "    }\n",
       "\n",
       "    .dataframe thead th {\n",
       "        text-align: right;\n",
       "    }\n",
       "</style>\n",
       "<table border=\"1\" class=\"dataframe\">\n",
       "  <thead>\n",
       "    <tr style=\"text-align: right;\">\n",
       "      <th></th>\n",
       "      <th>date</th>\n",
       "      <th>weather</th>\n",
       "      <th>max</th>\n",
       "      <th>min</th>\n",
       "      <th>power</th>\n",
       "      <th>direction</th>\n",
       "    </tr>\n",
       "  </thead>\n",
       "  <tbody>\n",
       "    <tr>\n",
       "      <th>0</th>\n",
       "      <td>2011</td>\n",
       "      <td>雨</td>\n",
       "      <td>5</td>\n",
       "      <td>-1</td>\n",
       "      <td>微风</td>\n",
       "      <td>无持续风向</td>\n",
       "    </tr>\n",
       "    <tr>\n",
       "      <th>1</th>\n",
       "      <td>2011</td>\n",
       "      <td>多云</td>\n",
       "      <td>7</td>\n",
       "      <td>0</td>\n",
       "      <td>微风</td>\n",
       "      <td>无持续风向~北风</td>\n",
       "    </tr>\n",
       "    <tr>\n",
       "      <th>2</th>\n",
       "      <td>2011</td>\n",
       "      <td>雨</td>\n",
       "      <td>6</td>\n",
       "      <td>0</td>\n",
       "      <td>微风</td>\n",
       "      <td>北风</td>\n",
       "    </tr>\n",
       "    <tr>\n",
       "      <th>3</th>\n",
       "      <td>2011</td>\n",
       "      <td>雨</td>\n",
       "      <td>4</td>\n",
       "      <td>-2</td>\n",
       "      <td>微风</td>\n",
       "      <td>北风</td>\n",
       "    </tr>\n",
       "    <tr>\n",
       "      <th>4</th>\n",
       "      <td>2011</td>\n",
       "      <td>多云</td>\n",
       "      <td>5</td>\n",
       "      <td>-1</td>\n",
       "      <td>微风</td>\n",
       "      <td>北风</td>\n",
       "    </tr>\n",
       "  </tbody>\n",
       "</table>\n",
       "</div>"
      ],
      "text/plain": [
       "   date weather  max  min power direction\n",
       "0  2011       雨    5   -1    微风     无持续风向\n",
       "1  2011      多云    7    0    微风  无持续风向~北风\n",
       "2  2011       雨    6    0    微风        北风\n",
       "3  2011       雨    4   -2    微风        北风\n",
       "4  2011      多云    5   -1    微风        北风"
      ]
     },
     "execution_count": 11,
     "metadata": {},
     "output_type": "execute_result"
    }
   ],
   "source": [
    "weather_data_transform = weather.copy()\n",
    "for i, w in enumerate(weather_data_transform.weather):\n",
    "    if w.find('雨') >= 0:\n",
    "        weather_data_transform.weather[i] = '雨'\n",
    "weather_data_transform['date'] = weather_data_transform['date'].map(lambda x: x.split('-')[0])\n",
    "weather_data_transform.head()"
   ]
  },
  {
   "cell_type": "code",
   "execution_count": 12,
   "metadata": {},
   "outputs": [
    {
     "data": {
      "text/plain": [
       "date\n",
       "2011    150.0\n",
       "2012    193.0\n",
       "2013    126.0\n",
       "2014    136.0\n",
       "2015    180.0\n",
       "Name: 雨, dtype: float64"
      ]
     },
     "execution_count": 12,
     "metadata": {},
     "output_type": "execute_result"
    }
   ],
   "source": [
    "grouped = weather_data_transform.groupby(['date', 'weather']).weather.count()\n",
    "rain_data = grouped.unstack()['雨']\n",
    "rain_data.head()"
   ]
  },
  {
   "cell_type": "code",
   "execution_count": 13,
   "metadata": {},
   "outputs": [
    {
     "data": {
      "text/plain": [
       "direction\n",
       "东北风    477\n",
       "西北风    472\n",
       "东风     440\n",
       "北风     435\n",
       "西南风    353\n",
       "Name: direction, dtype: int64"
      ]
     },
     "execution_count": 13,
     "metadata": {},
     "output_type": "execute_result"
    }
   ],
   "source": [
    "direction_data = weather.groupby('direction').direction.count().sort_values(ascending=False)\n",
    "direction_data.head()"
   ]
  },
  {
   "cell_type": "code",
   "execution_count": 14,
   "metadata": {},
   "outputs": [],
   "source": [
    "direction_data.loc['其他'] = direction_data[direction_data.values <= 2].count()\n",
    "direction_data = direction_data[direction_data.values > 2]"
   ]
  },
  {
   "cell_type": "code",
   "execution_count": 15,
   "metadata": {},
   "outputs": [
    {
     "data": {
      "text/plain": [
       "power\n",
       "小于3级    1231\n",
       "2级       391\n",
       "微风       375\n",
       "1级       207\n",
       "3级       135\n",
       "Name: direction, dtype: int64"
      ]
     },
     "execution_count": 15,
     "metadata": {},
     "output_type": "execute_result"
    }
   ],
   "source": [
    "force_data = weather.groupby('power').direction.count().sort_values(ascending=False)\n",
    "force_data.head()"
   ]
  },
  {
   "cell_type": "code",
   "execution_count": 16,
   "metadata": {},
   "outputs": [
    {
     "data": {
      "text/plain": [
       "power\n",
       "小于3级         1231\n",
       "2级            391\n",
       "微风            375\n",
       "1级            207\n",
       "3级            135\n",
       "3-4级          109\n",
       "3-4级~小于3级      54\n",
       "4级             46\n",
       "小于3级~3-4级      33\n",
       "4-5级           33\n",
       "Name: direction, dtype: int64"
      ]
     },
     "execution_count": 16,
     "metadata": {},
     "output_type": "execute_result"
    }
   ],
   "source": [
    "force_data.loc['其他'] = force_data[force_data.values <= 2].count()\n",
    "force_data = force_data[force_data.values > 2]\n",
    "force_data.head(10)"
   ]
  },
  {
   "cell_type": "code",
   "execution_count": null,
   "metadata": {},
   "outputs": [],
   "source": []
  }
 ],
 "metadata": {
  "kernelspec": {
   "display_name": "Python 3",
   "language": "python",
   "name": "python3"
  },
  "language_info": {
   "codemirror_mode": {
    "name": "ipython",
    "version": 3
   },
   "file_extension": ".py",
   "mimetype": "text/x-python",
   "name": "python",
   "nbconvert_exporter": "python",
   "pygments_lexer": "ipython3",
   "version": "3.6.7"
  }
 },
 "nbformat": 4,
 "nbformat_minor": 2
}
